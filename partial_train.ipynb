{
 "cells": [
  {
   "cell_type": "code",
   "execution_count": 155,
   "id": "30331f39",
   "metadata": {},
   "outputs": [],
   "source": [
    "import pandas as pd\n",
    "import numpy as np\n",
    "import re\n",
    "import seaborn as sns\n",
    "import warnings\n",
    "warnings.simplefilter(\"ignore\")\n",
    "from sklearn.preprocessing import LabelEncoder\n",
    "from sklearn.feature_extraction.text import CountVectorizer\n",
    "from sklearn.feature_extraction.text import TfidfVectorizer\n",
    "import pickle\n",
    "import stopwordsiso\n",
    "import unidecode\n",
    "from sklearn.model_selection import train_test_split\n",
    "from sklearn.naive_bayes import MultinomialNB\n",
    "from sklearn.metrics import accuracy_score, confusion_matrix, classification_report\n",
    "cv = CountVectorizer(ngram_range=(1,1))\n",
    "tv = TfidfVectorizer()"
   ]
  },
  {
   "cell_type": "code",
   "execution_count": 156,
   "id": "8820f67c",
   "metadata": {},
   "outputs": [],
   "source": [
    "raw = pd.read_csv('first_mixed_data.csv', usecols=[1, 2]) \n",
    "df = pd.read_csv('first_mixed_data.csv', usecols=[1, 2])"
   ]
  },
  {
   "cell_type": "code",
   "execution_count": 157,
   "id": "3fead4f8",
   "metadata": {},
   "outputs": [],
   "source": [
    "df['Text'] = df['Text'].apply(lambda text: re.sub(r'(.)\\1+', r'\\1', re.sub(r'(.)\\1{2,}', r'\\1', text.lower())))"
   ]
  },
  {
   "cell_type": "code",
   "execution_count": 158,
   "id": "f5802682",
   "metadata": {},
   "outputs": [],
   "source": [
    "df = pd.concat([raw, df], axis=0)"
   ]
  },
  {
   "cell_type": "code",
   "execution_count": 159,
   "id": "6bb8c5eb",
   "metadata": {},
   "outputs": [],
   "source": [
    "df = df.sample(frac=1)"
   ]
  },
  {
   "cell_type": "code",
   "execution_count": 160,
   "id": "99db8d7b",
   "metadata": {},
   "outputs": [
    {
     "data": {
      "text/plain": [
       "Oriya        30018\n",
       "Bengali      29270\n",
       "Malayalam    28952\n",
       "Name: Language, dtype: int64"
      ]
     },
     "execution_count": 160,
     "metadata": {},
     "output_type": "execute_result"
    }
   ],
   "source": [
    "df['Language'].value_counts()"
   ]
  },
  {
   "cell_type": "code",
   "execution_count": 161,
   "id": "358a5f5e",
   "metadata": {},
   "outputs": [],
   "source": [
    "def preProcessing(data: pd.DataFrame):\n",
    "    \n",
    "    '''Returns X and y'''\n",
    "    \n",
    "    X = data[\"Text\"]\n",
    "    y = data[\"Language\"]\n",
    "    le = LabelEncoder()\n",
    "    y = le.fit_transform(y)\n",
    "    \n",
    "    with open('label_encoder_eng_ind', 'wb') as fil:\n",
    "        pickle.dump(le, fil)\n",
    "    \n",
    "    data_list = []\n",
    "    \n",
    "    for text in X:\n",
    "        text = re.sub(r'[!@#$(),n\"%^*.?:;~`0-9]', ' ', text)\n",
    "        text = re.sub(r'[[]]', ' ', text)\n",
    "        text = text.lower()\n",
    "        data_list.append(text)\n",
    "    \n",
    "    return X, y"
   ]
  },
  {
   "cell_type": "code",
   "execution_count": 162,
   "id": "39059570",
   "metadata": {},
   "outputs": [],
   "source": [
    "x, y = preProcessing(df)"
   ]
  },
  {
   "cell_type": "code",
   "execution_count": 163,
   "id": "cd3daa23",
   "metadata": {},
   "outputs": [
    {
     "name": "stdout",
     "output_type": "stream",
     "text": [
      "--- Preprocessing is done! ---\n"
     ]
    }
   ],
   "source": [
    "print('--- Preprocessing is done! ---')"
   ]
  },
  {
   "cell_type": "code",
   "execution_count": 164,
   "id": "8f5315be",
   "metadata": {},
   "outputs": [],
   "source": [
    "x_train, x_test, y_train, y_test = train_test_split(x, y, test_size = 0.1, stratify=y)"
   ]
  },
  {
   "cell_type": "code",
   "execution_count": 165,
   "id": "540fe43b",
   "metadata": {},
   "outputs": [],
   "source": [
    "def partialFit_predict(X, y, n_batches: int):\n",
    "    \n",
    "    print('--- Partial training has begun! ---')\n",
    "    '''Dividing the dataset into chunks before fitting'''\n",
    "    \n",
    "    def batches(l, n):\n",
    "        for i in range(0, len(l), n):\n",
    "            yield l[i:i+n]\n",
    "    \n",
    "    global tv\n",
    "    i = 0\n",
    "    for batch in batches(range(len(X)), n_batches):\n",
    "        model = MultinomialNB()\n",
    "        i = i + 1\n",
    "        print(i)\n",
    "        \n",
    "        try:\n",
    "            x = tv.fit_transform(X[batch[0]:batch[-1]+1]).toarray()\n",
    "            print(X.shape)\n",
    "            model.partial_fit(x, y[batch[0]:batch[-1]+1], classes=np.unique(y))\n",
    "        except:\n",
    "            x = tv.transform(X[batch[0]:batch[-1]+1]).toarray()\n",
    "            model.partial_fit(x, y[batch[0]:batch[-1]+1], classes=np.unique(y))\n",
    "\n",
    "    print('--- Training is done! ---\\n\\n')\n",
    "    global y_test, x_test\n",
    "    x_test = tv.transform(x_test).toarray()\n",
    "    \n",
    "    with open('count_vectorizer_eng_ind', 'wb') as f:\n",
    "        pickle.dump(tv, f)\n",
    "    \n",
    "    y_pred = model.predict(x_test)\n",
    "    \n",
    "    with open('partial_fit_model_eng_ind', 'wb') as files:\n",
    "        pickle.dump(model, files)\n",
    "    \n",
    "    ac = accuracy_score(y_test, y_pred)\n",
    "    cr = classification_report(y_test, y_pred)\n",
    "    cm = confusion_matrix(y_test, y_pred)\n",
    "    print(f'''Accuracy score: {ac}\\n\\n''', cr)\n",
    "    print(sns.heatmap(cm, annot=True))"
   ]
  },
  {
   "cell_type": "code",
   "execution_count": 166,
   "id": "8682d596",
   "metadata": {},
   "outputs": [
    {
     "name": "stdout",
     "output_type": "stream",
     "text": [
      "--- Partial training has begun! ---\n",
      "1\n",
      "(75004,)\n",
      "2\n",
      "(75004,)\n",
      "3\n",
      "(75004,)\n",
      "4\n",
      "(75004,)\n",
      "5\n",
      "(75004,)\n",
      "6\n",
      "(75004,)\n",
      "7\n",
      "(75004,)\n",
      "8\n",
      "(75004,)\n",
      "--- Training is done! ---\n",
      "\n",
      "\n",
      "Accuracy score: 0.899818676337262\n",
      "\n",
      "               precision    recall  f1-score   support\n",
      "\n",
      "           0       0.83      0.93      0.87      4390\n",
      "           1       0.98      0.81      0.89      4343\n",
      "           2       0.92      0.95      0.94      4503\n",
      "\n",
      "    accuracy                           0.90     13236\n",
      "   macro avg       0.91      0.90      0.90     13236\n",
      "weighted avg       0.91      0.90      0.90     13236\n",
      "\n",
      "AxesSubplot(0.125,0.125;0.62x0.755)\n"
     ]
    },
    {
     "data": {
      "image/png": "[encoded data removed]",
      "text/plain": [
       "<Figure size 432x288 with 2 Axes>"
      ]
     },
     "metadata": {
      "needs_background": "light"
     },
     "output_type": "display_data"
    }
   ],
   "source": [
    "partialFit_predict(x_train, y_train, 10000)"
   ]
  }
 ],
 "metadata": {
  "kernelspec": {
   "display_name": "Python 3 (ipykernel)",
   "language": "python",
   "name": "python3"
  },
  "language_info": {
   "codemirror_mode": {
    "name": "ipython",
    "version": 3
   },
   "file_extension": ".py",
   "mimetype": "text/x-python",
   "name": "python",
   "nbconvert_exporter": "python",
   "pygments_lexer": "ipython3",
   "version": "3.8.8"
  }
 },
 "nbformat": 4,
 "nbformat_minor": 5
}
