{
 "cells": [
  {
   "cell_type": "code",
   "execution_count": null,
   "id": "315473a3",
   "metadata": {},
   "outputs": [],
   "source": [
    "import numpy as np\n",
    "import pandas as pd\n",
    "import pickle\n",
    "from glob import glob\n",
    "import re\n",
    "# import nltk\n",
    "# import unidecode\n",
    "\n",
    "with open('NB_Model_english_char_ngram4', 'rb') as files:\n",
    "    model_eng = pickle.load(files)\n",
    "    \n",
    "with open('tfidf_vectorizer_english_char_ngram4', 'rb') as files:\n",
    "    tfidf_eng = pickle.load(files)    \n",
    "\n",
    "with open('Label_Encoder_english_char_ngram4', 'rb') as files:\n",
    "    le_eng = pickle.load(files)\n",
    "    \n",
    "\n",
    "with open('NB_Model', 'rb') as files:\n",
    "    model_ind = pickle.load(files)\n",
    "    \n",
    "with open('tfidf_vectorizer', 'rb') as files:\n",
    "    tfidf_ind = pickle.load(files)    \n",
    "\n",
    "with open('Label_Encoder', 'rb') as files:\n",
    "    le_ind = pickle.load(files)    "
   ]
  },
  {
   "cell_type": "code",
   "execution_count": null,
   "id": "87271ac6",
   "metadata": {
    "scrolled": false
   },
   "outputs": [],
   "source": [
    "le_ind.inverse_transform(model_ind.classes_)"
   ]
  },
  {
   "cell_type": "code",
   "execution_count": 116,
   "id": "e679e81d",
   "metadata": {},
   "outputs": [],
   "source": [
    "vocab = open('eng_vocab.txt')\n",
    "voc = [str(word.replace('\\n', '')) for word in vocab.readlines()]"
   ]
  },
  {
   "cell_type": "code",
   "execution_count": 117,
   "id": "336fae77",
   "metadata": {},
   "outputs": [],
   "source": [
    "voc = [word for word in voc if word!='are' and word!='will' and word!='bill' and word!='a' and word!='me'\n",
    "      and word!='hi' and word!='main' and word!='may' and word!='by' and word!='or' and word!='per'\n",
    "      and word!='pan' and word!='sir' and word!='us' and word!='it' and word!='do']"
   ]
  },
  {
   "cell_type": "code",
   "execution_count": 118,
   "id": "6da71764",
   "metadata": {},
   "outputs": [],
   "source": [
    "vocab.close()"
   ]
  },
  {
   "cell_type": "code",
   "execution_count": 119,
   "id": "49e90f93",
   "metadata": {},
   "outputs": [],
   "source": [
    "if 'do' in voc:\n",
    "    print('Y')"
   ]
  },
  {
   "cell_type": "code",
   "execution_count": null,
   "id": "e6fdaed2",
   "metadata": {},
   "outputs": [],
   "source": [
    "# vector = tfidf_eng.transform(['do']).toarray() \n",
    "# language = model_eng.predict(vector) \n",
    "# language_pct = model_eng.predict_proba(vector) \n",
    "# language = le_eng.inverse_transform(language)\n",
    "# print(f'''{str(language[0])}: {np.max(language_pct)}''') "
   ]
  },
  {
   "cell_type": "code",
   "execution_count": 23,
   "id": "7e7f4915",
   "metadata": {},
   "outputs": [],
   "source": [
    "def predictFind_codemix(text): \n",
    "    \n",
    "    global voc, model_eng, tfidf_eng, le_eng, model_ind, tfidf_ind, le_ind \n",
    "    text = re.sub(r'[!@#$(),\"%^*.?:;~`0-9]', ' ', str(text))\n",
    "    text = re.sub(r'[<>]', ' ', str(text))\n",
    "    text = re.sub(r'[~={}]', ' ', str(text))\n",
    "    text = re.sub(r'[+-]', ' ', str(text))    \n",
    "    text = re.sub(r'[[]]', ' ', str(text))\n",
    "    text = re.sub(r' +', ' ', str(text))\n",
    "    text = text.lower()\n",
    "    text = text.strip()    \n",
    "    english_words = []\n",
    "    text_for_pred = []\n",
    "    \n",
    "    for token in text.split():\n",
    "        vector = tfidf_eng.transform([token]).toarray() \n",
    "        language = model_eng.predict(vector) \n",
    "        language_pct = model_eng.predict_proba(vector) \n",
    "        language = le_eng.inverse_transform(language)\n",
    "        if token in voc or ( str(language[0])=='English' and np.max(language_pct)>0.09 ):\n",
    "            english_words.append(token)\n",
    "    \n",
    "    text_for_pred = ' '.join([token for token in text.split() if token not in english_words])\n",
    "    \n",
    "    x = tfidf_ind.transform([text_for_pred]).toarray() \n",
    "    lang = model_ind.predict(x) \n",
    "    lang_per = model_ind.predict_proba(x) \n",
    "    lang = le_ind.inverse_transform(lang)\n",
    "    print(f'''The text is in {str(lang[0])}\\n\\n''') \n",
    "    \n",
    "#     lang_names = list(le.inverse_transform(model.classes_)) \n",
    "#     probas_list = []\n",
    "#     for i in lang_per:\n",
    "#         for j in i:\n",
    "#             probas_list.append(j)\n",
    "\n",
    "#     proba_table = pd.DataFrame({'Language': lang_names,\n",
    "#                         'Probability': probas_list}).sort_values(by='Probability',\n",
    "#                                                            ascending=False).reset_index(drop=True)\n",
    "\n",
    "    if len(english_words)>0 and len(english_words)/len(text.split())<0.60:\n",
    "        with open(f'''{str(lang[0])}-English-codemix.csv''', 'a') as file:\n",
    "            file.write(f'{text}\\n')      \n",
    "            file.close()\n",
    "    elif len(english_words)==0:\n",
    "        pass"
   ]
  },
  {
   "cell_type": "code",
   "execution_count": null,
   "id": "a1b64299",
   "metadata": {},
   "outputs": [],
   "source": [
    "files = glob('*.csv')"
   ]
  },
  {
   "cell_type": "code",
   "execution_count": 15,
   "id": "8b56f47e",
   "metadata": {},
   "outputs": [],
   "source": [
    "for index, file in enumerate(files):\n",
    "    print(f'CSV file number: {index}')\n",
    "    with open(file, 'r') as f:\n",
    "        data = f.readlines()\n",
    "    \n",
    "    for text in data:\n",
    "        predictFind_codemix(text)"
   ]
  },
  {
   "cell_type": "code",
   "execution_count": null,
   "id": "58e3081f",
   "metadata": {},
   "outputs": [],
   "source": []
  }
 ],
 "metadata": {
  "kernelspec": {
   "display_name": "Python 3 (ipykernel)",
   "language": "python",
   "name": "python3"
  },
  "language_info": {
   "codemirror_mode": {
    "name": "ipython",
    "version": 3
   },
   "file_extension": ".py",
   "mimetype": "text/x-python",
   "name": "python",
   "nbconvert_exporter": "python",
   "pygments_lexer": "ipython3",
   "version": "3.8.8"
  }
 },
 "nbformat": 4,
 "nbformat_minor": 5
}
