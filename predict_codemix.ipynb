{
 "cells": [
  {
   "cell_type": "code",
   "execution_count": 13,
   "id": "315473a3",
   "metadata": {},
   "outputs": [],
   "source": [
    "import pickle\n",
    "import numpy as np\n",
    "import pandas as pd\n",
    "import glob\n",
    "import nltk\n",
    "import unidecode\n",
    "import contractions\n",
    "from nltk.corpus import stopwords\n",
    "\n",
    "with open('partial_fit_model_no_stop', 'rb') as files:\n",
    "    l = pickle.load(files)\n",
    "    \n",
    "with open('count_vectorizer_no_stop', 'rb') as f:\n",
    "    t = pickle.load(f)    \n",
    "\n",
    "with open('label_encoder_no_stop', 'rb') as fil:\n",
    "    v = pickle.load(fil)"
   ]
  },
  {
   "cell_type": "code",
   "execution_count": null,
   "id": "3250a5b2",
   "metadata": {},
   "outputs": [],
   "source": [
    "files = []\n",
    "for file in glob.glob('*.csv'):\n",
    "    files.append(file)"
   ]
  },
  {
   "cell_type": "code",
   "execution_count": null,
   "id": "99d92dcf",
   "metadata": {},
   "outputs": [],
   "source": [
    "print(f'''Number of .csv files: {len(files)}''')"
   ]
  },
  {
   "cell_type": "code",
   "execution_count": 4,
   "id": "87271ac6",
   "metadata": {},
   "outputs": [
    {
     "data": {
      "text/plain": [
       "array([ 0,  1,  2,  3,  4,  5,  6,  7,  8,  9, 10, 11], dtype=int64)"
      ]
     },
     "execution_count": 4,
     "metadata": {},
     "output_type": "execute_result"
    }
   ],
   "source": [
    "l.classes_"
   ]
  },
  {
   "cell_type": "code",
   "execution_count": 32,
   "id": "635adeb8",
   "metadata": {},
   "outputs": [],
   "source": [
    "stop = stopwords.words('english')"
   ]
  },
  {
   "cell_type": "code",
   "execution_count": 33,
   "id": "6da44984",
   "metadata": {},
   "outputs": [],
   "source": [
    "def expand_contractions(text):\n",
    "    expanded_text = contractions.fix(text) \n",
    "    return expanded_text"
   ]
  },
  {
   "cell_type": "code",
   "execution_count": 34,
   "id": "e79e58ae",
   "metadata": {},
   "outputs": [],
   "source": [
    "contracted_stop = []\n",
    "for i in stop:\n",
    "    contracted_stop.append(expand_contractions(i))"
   ]
  },
  {
   "cell_type": "code",
   "execution_count": 35,
   "id": "d5585998",
   "metadata": {},
   "outputs": [],
   "source": [
    "contracted_stw = []\n",
    "for i in contracted_stop:\n",
    "    contracted_stw.append(i)"
   ]
  },
  {
   "cell_type": "code",
   "execution_count": 36,
   "id": "a0c5880b",
   "metadata": {},
   "outputs": [],
   "source": [
    "all_stops = stop + contracted_stw"
   ]
  },
  {
   "cell_type": "code",
   "execution_count": 37,
   "id": "27363f2a",
   "metadata": {},
   "outputs": [
    {
     "data": {
      "text/plain": [
       "358"
      ]
     },
     "execution_count": 37,
     "metadata": {},
     "output_type": "execute_result"
    }
   ],
   "source": [
    "len(all_stops) "
   ]
  },
  {
   "cell_type": "code",
   "execution_count": 38,
   "id": "f56d653c",
   "metadata": {},
   "outputs": [],
   "source": [
    "from bs4 import BeautifulSoup\n",
    "import requests"
   ]
  },
  {
   "cell_type": "code",
   "execution_count": 39,
   "id": "f8615691",
   "metadata": {},
   "outputs": [],
   "source": [
    "page = requests.get('https://www.ef-australia.com.au/english-resources/english-vocabulary/top-3000-words/')\n",
    "soup = BeautifulSoup(page.text, 'lxml')"
   ]
  },
  {
   "cell_type": "code",
   "execution_count": 40,
   "id": "469ea09e",
   "metadata": {},
   "outputs": [],
   "source": [
    "eng_words = []\n",
    "for i in soup.findAll('p')[11:]:\n",
    "    for j in i:\n",
    "        if j!=' ' and j!='':\n",
    "            eng_words.append(j.text)"
   ]
  },
  {
   "cell_type": "code",
   "execution_count": 41,
   "id": "9f6ed7c0",
   "metadata": {},
   "outputs": [],
   "source": [
    "eng_words = eng_words + all_stops"
   ]
  },
  {
   "cell_type": "code",
   "execution_count": 42,
   "id": "3c0afc42",
   "metadata": {},
   "outputs": [
    {
     "data": {
      "text/plain": [
       "6357"
      ]
     },
     "execution_count": 42,
     "metadata": {},
     "output_type": "execute_result"
    }
   ],
   "source": [
    "len(eng_words)"
   ]
  },
  {
   "cell_type": "code",
   "execution_count": 43,
   "id": "ed5ad6a4",
   "metadata": {},
   "outputs": [],
   "source": [
    "english_s = []"
   ]
  },
  {
   "cell_type": "code",
   "execution_count": 44,
   "id": "7d72eae1",
   "metadata": {},
   "outputs": [],
   "source": [
    "for word in eng_words:\n",
    "    english_s.append(f'{word}ing')"
   ]
  },
  {
   "cell_type": "code",
   "execution_count": 45,
   "id": "96b0ca9d",
   "metadata": {},
   "outputs": [],
   "source": [
    "for word in eng_words:\n",
    "    english_s.append(f'{word}s')"
   ]
  },
  {
   "cell_type": "code",
   "execution_count": 46,
   "id": "11cadd2a",
   "metadata": {},
   "outputs": [],
   "source": [
    "for word in eng_words:\n",
    "    english_s.append(f'{word}es')"
   ]
  },
  {
   "cell_type": "code",
   "execution_count": 47,
   "id": "82edb07b",
   "metadata": {},
   "outputs": [],
   "source": [
    "for word in eng_words:\n",
    "    english_s.append(f'{word}ed')"
   ]
  },
  {
   "cell_type": "code",
   "execution_count": 48,
   "id": "d260e9bf",
   "metadata": {},
   "outputs": [],
   "source": [
    "eng_words = english_s + eng_words"
   ]
  },
  {
   "cell_type": "code",
   "execution_count": 49,
   "id": "48f0925d",
   "metadata": {},
   "outputs": [
    {
     "data": {
      "text/plain": [
       "31785"
      ]
     },
     "execution_count": 49,
     "metadata": {},
     "output_type": "execute_result"
    }
   ],
   "source": [
    "len(eng_words)"
   ]
  },
  {
   "cell_type": "code",
   "execution_count": null,
   "id": "fba5e136",
   "metadata": {},
   "outputs": [],
   "source": [
    "import enchant\n",
    "d = enchant.Dict(\"en_US\")\n",
    "d.check(\"Hello\")\n",
    "\n",
    "eng_words = [word for word in eng_words if word!='']\n",
    "eng_words = [word for word in eng_words if d.check(word)==True] \n",
    "len(eng_words)"
   ]
  },
  {
   "cell_type": "code",
   "execution_count": 50,
   "id": "7e7f4915",
   "metadata": {},
   "outputs": [],
   "source": [
    "def predictFind_codemix(text): \n",
    "    \n",
    "    global eng_words\n",
    "    english_words = []\n",
    "    text_for_pred = []\n",
    "    for token in text.lower().split():\n",
    "        if token in eng_words:\n",
    "            english_words.append(token)\n",
    "    \n",
    "    text_for_pred = str([token for token in text.lower().split() if token not in english_words])\n",
    "    \n",
    "    global l, t, v\n",
    "    x = t.transform([text_for_pred]).toarray() \n",
    "    lang = l.predict(x) \n",
    "    lang_per = l.predict_proba(x) \n",
    "    lang = v.inverse_transform(lang)\n",
    "    print(f'''The text is in {str(lang[0])} with {round(float(lang_per.max()*100), 1)}% confidence \\n\\n''') \n",
    "    \n",
    "    lang_names = list(v.inverse_transform(l.classes_)) \n",
    "    probas_list = []\n",
    "    for i in lang_per:\n",
    "        for j in i:\n",
    "            probas_list.append(j)\n",
    "\n",
    "    proba_table = pd.DataFrame({'Language': lang_names,\n",
    "                        'Probability': probas_list}).sort_values(by='Probability',\n",
    "                                                           ascending=False).reset_index(drop=True)\n",
    "                \n",
    "    if len(english_words)>0 and str(proba_table['Language'].loc[0])!='English':\n",
    "        with open(f'''{proba_table['Language'].loc[0]}-English-codemix.csv''', 'a') as file:\n",
    "            file.write(f'{text}\\n')\n",
    "            file.close()  \n",
    "            \n",
    "    elif len(english_words)>0 and str(proba_table['Language'].loc[0])=='English' and proba_table['Probability'].loc[0]<0.13:\n",
    "        with open(f'''Unknown-dialect-codemix.csv''', 'a') as file:\n",
    "            file.write(f'{text}\\n')\n",
    "            file.close()  \n",
    "            \n",
    "    elif len(english_words)>0 and str(proba_table['Language'].loc[0])=='English' and proba_table['Probability'].loc[0]>0.13:\n",
    "        pass"
   ]
  },
  {
   "cell_type": "code",
   "execution_count": null,
   "id": "24dbfca2",
   "metadata": {},
   "outputs": [],
   "source": [
    "for index, file in enumerate(files):\n",
    "    print(f'CSV file number: {index}')\n",
    "    df = pd.read_csv(file)['sentence']\n",
    "    df.drop_duplicated(inplace=True)\n",
    "    for text in df.values:\n",
    "        predictFind_codemix(text)"
   ]
  }
 ],
 "metadata": {
  "kernelspec": {
   "display_name": "Python 3 (ipykernel)",
   "language": "python",
   "name": "python3"
  },
  "language_info": {
   "codemirror_mode": {
    "name": "ipython",
    "version": 3
   },
   "file_extension": ".py",
   "mimetype": "text/x-python",
   "name": "python",
   "nbconvert_exporter": "python",
   "pygments_lexer": "ipython3",
   "version": "3.8.8"
  }
 },
 "nbformat": 4,
 "nbformat_minor": 5
}
