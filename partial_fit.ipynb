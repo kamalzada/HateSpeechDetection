{
 "cells": [
  {
   "cell_type": "code",
   "execution_count": 86,
   "id": "30331f39",
   "metadata": {},
   "outputs": [],
   "source": [
    "import pandas as pd\n",
    "import numpy as np\n",
    "import re\n",
    "import seaborn as sns\n",
    "import warnings\n",
    "warnings.simplefilter(\"ignore\")\n",
    "from sklearn.preprocessing import LabelEncoder\n",
    "from sklearn.feature_extraction.text import CountVectorizer\n",
    "import pickle\n",
    "import stopwordsiso\n",
    "import unidecode\n",
    "from sklearn.model_selection import train_test_split\n",
    "from sklearn.naive_bayes import MultinomialNB\n",
    "from sklearn.metrics import accuracy_score, confusion_matrix, classification_report\n",
    "cv = CountVectorizer(ngram_range=(1,1))"
   ]
  },
  {
   "cell_type": "code",
   "execution_count": 87,
   "id": "8820f67c",
   "metadata": {},
   "outputs": [],
   "source": [
    "df = pd.read_csv('12languages15million.csv') "
   ]
  },
  {
   "cell_type": "code",
   "execution_count": 91,
   "id": "358a5f5e",
   "metadata": {},
   "outputs": [],
   "source": [
    "def preProcessing(data: pd.DataFrame):\n",
    "    \n",
    "    '''Returns X and y'''\n",
    "    \n",
    "    X = data[\"Text\"]\n",
    "    y = data[\"Language\"]\n",
    "    le = LabelEncoder()\n",
    "    y = le.fit_transform(y)\n",
    "    \n",
    "    with open('label_encoder_eng_ind', 'wb') as fil:\n",
    "        pickle.dump(le, fil)\n",
    "    \n",
    "    data_list = []\n",
    "    \n",
    "    for text in X:\n",
    "        text = re.sub(r'[!@#$(),n\"%^*.?:;~`0-9]', ' ', text)\n",
    "        text = re.sub(r'[[]]', ' ', text)\n",
    "        text = text.lower()\n",
    "        data_list.append(text)\n",
    "    \n",
    "    return X, y"
   ]
  },
  {
   "cell_type": "code",
   "execution_count": 92,
   "id": "39059570",
   "metadata": {},
   "outputs": [],
   "source": [
    "x, y = preProcessing(df)"
   ]
  },
  {
   "cell_type": "code",
   "execution_count": 98,
   "id": "cd3daa23",
   "metadata": {},
   "outputs": [
    {
     "name": "stdout",
     "output_type": "stream",
     "text": [
      "--- Preprocessing is done! ---\n"
     ]
    }
   ],
   "source": [
    "print('--- Preprocessing is done! ---')"
   ]
  },
  {
   "cell_type": "code",
   "execution_count": 99,
   "id": "5c2241fb",
   "metadata": {},
   "outputs": [
    {
     "data": {
      "text/plain": [
       "150"
      ]
     },
     "execution_count": 99,
     "metadata": {},
     "output_type": "execute_result"
    }
   ],
   "source": [
    "len(y_test)"
   ]
  },
  {
   "cell_type": "code",
   "execution_count": 93,
   "id": "8f5315be",
   "metadata": {},
   "outputs": [],
   "source": [
    "x_train, x_test, y_train, y_test = train_test_split(x, y, test_size = 0.00066, stratify=y)"
   ]
  },
  {
   "cell_type": "code",
   "execution_count": 94,
   "id": "540fe43b",
   "metadata": {},
   "outputs": [],
   "source": [
    "def partialFit_predict(X, y, n_batches: int):\n",
    "    \n",
    "    print('--- Partial fit has begun! ---')\n",
    "    '''Dividing the dataset into chunks before fitting'''\n",
    "    \n",
    "    def batches(l, n):\n",
    "        for i in range(0, len(l), n):\n",
    "            yield l[i:i+n]\n",
    "    \n",
    "    global cv\n",
    "    i = 0\n",
    "    for batch in batches(range(len(X)), n_batches):\n",
    "        model = MultinomialNB()\n",
    "        i = i + 1\n",
    "        print(i)\n",
    "        \n",
    "        try:\n",
    "            x = cv.fit_transform(X[batch[0]:batch[-1]+1]).toarray()\n",
    "            print(X.shape)\n",
    "            model.partial_fit(x, y[batch[0]:batch[-1]+1], classes=np.unique(y))\n",
    "        except:\n",
    "            x = cv.transform(X[batch[0]:batch[-1]+1]).toarray()\n",
    "            model.partial_fit(x, y[batch[0]:batch[-1]+1], classes=np.unique(y))\n",
    "\n",
    "    print('--- Training is done! ---\\n\\n')\n",
    "    global y_test, x_test\n",
    "    x_test = cv.transform(x_test).toarray()\n",
    "    \n",
    "    with open('count_vectorizer_eng_ind', 'wb') as f:\n",
    "        pickle.dump(cv, f)\n",
    "    \n",
    "    y_pred = model.predict(x_test)\n",
    "    \n",
    "    with open('partial_fit_model_eng_ind', 'wb') as files:\n",
    "        pickle.dump(model, files)\n",
    "    \n",
    "    ac = accuracy_score(y_test, y_pred)\n",
    "    cr = classification_report(y_test, y_pred)\n",
    "    cm = confusion_matrix(y_test, y_pred)\n",
    "    print(f'''Accuracy score: {ac}\\n\\n''', cr)\n",
    "    print(sns.heatmap(cm, annot=True))"
   ]
  },
  {
   "cell_type": "code",
   "execution_count": 95,
   "id": "8682d596",
   "metadata": {},
   "outputs": [
    {
     "name": "stdout",
     "output_type": "stream",
     "text": [
      "Accuracy score: 0.8333333333333334\n",
      "\n",
      "               precision    recall  f1-score   support\n",
      "\n",
      "           0       0.72      0.93      0.81        56\n",
      "           1       1.00      0.70      0.82        47\n",
      "           2       0.89      0.85      0.87        47\n",
      "\n",
      "    accuracy                           0.83       150\n",
      "   macro avg       0.87      0.83      0.84       150\n",
      "weighted avg       0.86      0.83      0.83       150\n",
      "\n",
      "[0 2 0 0 1 2 0 0 0 0 1 1 2 0 1 2 2 2 0 1 0 1 0 0 1 0 0 0 1 1 2 0 0 0 1 0 1\n",
      " 1 0 2 2 2 0 0 2 2 0 2 0 0 2 0 0 2 2 2 2 0 2 0 0 1 1 2 0 1 0 0 0 2 0 0 0 0\n",
      " 1 1 2 2 2 0 2 0 0 1 1 2 2 1 0 1 2 0 0 1 0 0 0 2 1 0 0 2 2 1 1 0 2 1 0 2 0\n",
      " 0 2 0 0 1 0 0 2 1 2 2 0 0 0 0 0 2 1 2 1 0 0 2 0 2 1 0 1 0 2 0 0 2 0 0 1 2\n",
      " 2 0]\n"
     ]
    }
   ],
   "source": [
    "partialFit_predict(x_train, y_train, 10000)"
   ]
  }
 ],
 "metadata": {
  "kernelspec": {
   "display_name": "Python 3 (ipykernel)",
   "language": "python",
   "name": "python3"
  },
  "language_info": {
   "codemirror_mode": {
    "name": "ipython",
    "version": 3
   },
   "file_extension": ".py",
   "mimetype": "text/x-python",
   "name": "python",
   "nbconvert_exporter": "python",
   "pygments_lexer": "ipython3",
   "version": "3.8.8"
  }
 },
 "nbformat": 4,
 "nbformat_minor": 5
}
