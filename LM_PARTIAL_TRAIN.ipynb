{
 "cells": [
  {
   "cell_type": "code",
   "execution_count": 41,
   "id": "30331f39",
   "metadata": {},
   "outputs": [],
   "source": [
    "import pandas as pd\n",
    "import numpy as np\n",
    "import re\n",
    "import seaborn as sns\n",
    "import matplotlib.pyplot as plt\n",
    "import warnings\n",
    "warnings.simplefilter(\"ignore\")\n",
    "from sklearn.preprocessing import LabelEncoder\n",
    "from sklearn.feature_extraction.text import CountVectorizer\n",
    "import pickle\n",
    "import stopwordsiso\n",
    "import unidecode\n",
    "import random\n",
    "from sklearn.model_selection import train_test_split\n",
    "from sklearn.naive_bayes import MultinomialNB\n",
    "from sklearn.metrics import accuracy_score, confusion_matrix, classification_report\n",
    "cv = CountVectorizer(ngram_range=(1,1))"
   ]
  },
  {
   "cell_type": "code",
   "execution_count": 42,
   "id": "8820f67c",
   "metadata": {},
   "outputs": [],
   "source": [
    "df = pd.read_csv('english_indian_data.csv') "
   ]
  },
  {
   "cell_type": "code",
   "execution_count": 43,
   "id": "e81de139",
   "metadata": {},
   "outputs": [
    {
     "data": {
      "text/plain": [
       "44120"
      ]
     },
     "execution_count": 43,
     "metadata": {},
     "output_type": "execute_result"
    }
   ],
   "source": [
    "df.shape[0]"
   ]
  },
  {
   "cell_type": "code",
   "execution_count": 44,
   "id": "358a5f5e",
   "metadata": {},
   "outputs": [],
   "source": [
    "def preProcessing(data: pd.DataFrame):\n",
    "    \n",
    "    '''Returns X and y'''\n",
    "    \n",
    "    X = data[\"Text\"]\n",
    "    y = data[\"Language\"]\n",
    "    le = LabelEncoder()\n",
    "    y = le.fit_transform(y)\n",
    "    \n",
    "    with open('label_encoder_eng_ind', 'wb') as fil:\n",
    "        pickle.dump(le, fil)\n",
    "    \n",
    "    data_list = []\n",
    "    \n",
    "    for text in X:\n",
    "        text = re.sub(r'[!@#$(),n\"%^*.?:;~`0-9]', ' ', text)\n",
    "        text = re.sub(r'[[]]', ' ', text)\n",
    "        text = text.lower()\n",
    "        data_list.append(text)\n",
    "    \n",
    "    return X, y"
   ]
  },
  {
   "cell_type": "code",
   "execution_count": 45,
   "id": "39059570",
   "metadata": {},
   "outputs": [],
   "source": [
    "X, y = preProcessing(df)"
   ]
  },
  {
   "cell_type": "code",
   "execution_count": 46,
   "id": "8f5315be",
   "metadata": {},
   "outputs": [],
   "source": [
    "x_train, x_test, y_train, y_test = train_test_split(X, y, test_size = 0.001, stratify=y)"
   ]
  },
  {
   "cell_type": "code",
   "execution_count": 47,
   "id": "a6397494",
   "metadata": {},
   "outputs": [],
   "source": [
    "x_train.reset_index(drop=True, inplace=True)\n",
    "#y_train.reset_index(drop=True, inplace=True)"
   ]
  },
  {
   "cell_type": "code",
   "execution_count": 48,
   "id": "c87f31d9",
   "metadata": {},
   "outputs": [],
   "source": [
    "def partialFit_predict(X, y, n_batches: int, n_iter: int):\n",
    "    \n",
    "    def batches(l, n):\n",
    "        for i in range(0, len(l), n):\n",
    "            yield l[i:i+n]\n",
    "    \n",
    "    global cv\n",
    "    i = 0\n",
    "    shuffledRange = list(range(len(X)))\n",
    "    for _ in range(n_iter):\n",
    "        random.shuffle(shuffledRange)\n",
    "        shuffledX = [X.loc[i] for i in shuffledRange]\n",
    "        shuffledY = [y[i] for i in shuffledRange]\n",
    "        for batch in batches(range(len(X)), n_batches):\n",
    "            model = MultinomialNB()\n",
    "        \n",
    "            i = i + 1\n",
    "            print(i)\n",
    "        \n",
    "            try:\n",
    "                x = cv.fit_transform(shuffledX[batch[0]:batch[-1]+1]).toarray()\n",
    "                print(X.shape)\n",
    "                model.partial_fit(x, shuffledY[batch[0]:batch[-1]+1], classes=np.unique(y))\n",
    "            except:\n",
    "                x = cv.transform(shuffledX[batch[0]:batch[-1]+1]).toarray()\n",
    "                model.partial_fit(x, shuffledY[batch[0]:batch[-1]+1], classes=np.unique(y))\n",
    "    \n",
    "    with open('partial_fit_model_eng_ind', 'wb') as files:\n",
    "        pickle.dump(model, files)\n",
    "\n",
    "    print('--- Training is done! ---\\n\\n')\n",
    "    global y_test, x_test\n",
    "    x_test = cv.transform(x_test).toarray()\n",
    "    \n",
    "    with open('count_vectorizer_eng_ind', 'wb') as f:\n",
    "        pickle.dump(cv, f)\n",
    "    \n",
    "    y_pred = model.predict(x_test)\n",
    "    ac = accuracy_score(y_test, y_pred)\n",
    "    cr = classification_report(y_test, y_pred)\n",
    "    cm = confusion_matrix(y_test, y_pred)\n",
    "    print(f'''Accuracy score: {ac}\\n\\n''', cr)\n",
    "    print(sns.heatmap(cm, annot=True))"
   ]
  },
  {
   "cell_type": "code",
   "execution_count": 49,
   "id": "967adc23",
   "metadata": {},
   "outputs": [
    {
     "name": "stdout",
     "output_type": "stream",
     "text": [
      "1\n",
      "(39708,)\n",
      "2\n",
      "(39708,)\n",
      "3\n",
      "(39708,)\n",
      "4\n",
      "(39708,)\n",
      "--- Training is done! ---\n",
      "\n",
      "\n",
      "Accuracy score: 0.928377153218495\n",
      "\n",
      "               precision    recall  f1-score   support\n",
      "\n",
      "           0       0.98      0.88      0.92      1463\n",
      "           1       0.99      0.92      0.95      1448\n",
      "           2       0.84      0.99      0.91      1501\n",
      "\n",
      "    accuracy                           0.93      4412\n",
      "   macro avg       0.94      0.93      0.93      4412\n",
      "weighted avg       0.94      0.93      0.93      4412\n",
      "\n",
      "AxesSubplot(0.125,0.125;0.62x0.755)\n"
     ]
    },
    {
     "data": {
      "image/png": "[encoded data removed]",
      "text/plain": [
       "<Figure size 432x288 with 2 Axes>"
      ]
     },
     "metadata": {
      "needs_background": "light"
     },
     "output_type": "display_data"
    }
   ],
   "source": [
    "partialFit_predict(x_train, y_train, 10000, n_iter=1)"
   ]
  }
 ],
 "metadata": {
  "kernelspec": {
   "display_name": "Python 3 (ipykernel)",
   "language": "python",
   "name": "python3"
  },
  "language_info": {
   "codemirror_mode": {
    "name": "ipython",
    "version": 3
   },
   "file_extension": ".py",
   "mimetype": "text/x-python",
   "name": "python",
   "nbconvert_exporter": "python",
   "pygments_lexer": "ipython3",
   "version": "3.8.8"
  }
 },
 "nbformat": 4,
 "nbformat_minor": 5
}
